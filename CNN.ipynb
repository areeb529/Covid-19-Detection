{
 "cells": [
  {
   "cell_type": "code",
   "execution_count": 1,
   "id": "f164fcd2",
   "metadata": {},
   "outputs": [],
   "source": [
    "TRAIN_PATH = \"Dataset/Train\"\n",
    "VAL_PATH = \"Dataset/Valid\""
   ]
  },
  {
   "cell_type": "code",
   "execution_count": 2,
   "id": "f6f8c753",
   "metadata": {},
   "outputs": [],
   "source": [
    "import numpy as np\n",
    "import matplotlib.pyplot as plt\n",
    "import keras\n",
    "from keras.layers import *\n",
    "from keras.models import *\n",
    "from keras.preprocessing import image"
   ]
  },
  {
   "cell_type": "code",
   "execution_count": 3,
   "id": "b0de5739",
   "metadata": {},
   "outputs": [],
   "source": [
    "# CNN Based Model In Keras\n",
    "\n",
    "model = Sequential()\n",
    "model.add(Conv2D(32,kernel_size=(3,3), activation ='relu', input_shape=(224,224,3)))\n",
    "model.add(Conv2D(64,(3,3), activation = 'relu'))\n",
    "model.add(MaxPooling2D(pool_size = (2,2)))\n",
    "model.add(Dropout(0.25))\n",
    "\n",
    "model.add(Conv2D(64,(3,3), activation = 'relu'))\n",
    "model.add(MaxPooling2D(pool_size = (2,2)))\n",
    "model.add(Dropout(0.25))\n",
    "\n",
    "model.add(Conv2D(128,(3,3), activation = 'relu'))\n",
    "model.add(MaxPooling2D(pool_size = (2,2)))\n",
    "model.add(Dropout(0.25))\n",
    "\n",
    "# model.add(Conv2D(256,(3,3), activation = 'relu'))\n",
    "# model.add(MaxPooling2D(pool_size = (2,2)))\n",
    "# model.add(Dropout(0.25))\n",
    "\n",
    "model.add(Flatten())\n",
    "model.add(Dense(64,activation = 'relu'))\n",
    "model.add(Dropout(0.5))\n",
    "model.add(Dense(1,activation='sigmoid'))\n",
    "\n",
    "model.compile(loss = keras.losses.binary_crossentropy, optimizer = 'adam', metrics =['accuracy'] )"
   ]
  },
  {
   "cell_type": "code",
   "execution_count": 4,
   "id": "6c7bf905",
   "metadata": {},
   "outputs": [
    {
     "name": "stdout",
     "output_type": "stream",
     "text": [
      "Model: \"sequential\"\n",
      "_________________________________________________________________\n",
      "Layer (type)                 Output Shape              Param #   \n",
      "=================================================================\n",
      "conv2d (Conv2D)              (None, 222, 222, 32)      896       \n",
      "_________________________________________________________________\n",
      "conv2d_1 (Conv2D)            (None, 220, 220, 64)      18496     \n",
      "_________________________________________________________________\n",
      "max_pooling2d (MaxPooling2D) (None, 110, 110, 64)      0         \n",
      "_________________________________________________________________\n",
      "dropout (Dropout)            (None, 110, 110, 64)      0         \n",
      "_________________________________________________________________\n",
      "conv2d_2 (Conv2D)            (None, 108, 108, 64)      36928     \n",
      "_________________________________________________________________\n",
      "max_pooling2d_1 (MaxPooling2 (None, 54, 54, 64)        0         \n",
      "_________________________________________________________________\n",
      "dropout_1 (Dropout)          (None, 54, 54, 64)        0         \n",
      "_________________________________________________________________\n",
      "conv2d_3 (Conv2D)            (None, 52, 52, 128)       73856     \n",
      "_________________________________________________________________\n",
      "max_pooling2d_2 (MaxPooling2 (None, 26, 26, 128)       0         \n",
      "_________________________________________________________________\n",
      "dropout_2 (Dropout)          (None, 26, 26, 128)       0         \n",
      "_________________________________________________________________\n",
      "flatten (Flatten)            (None, 86528)             0         \n",
      "_________________________________________________________________\n",
      "dense (Dense)                (None, 64)                5537856   \n",
      "_________________________________________________________________\n",
      "dropout_3 (Dropout)          (None, 64)                0         \n",
      "_________________________________________________________________\n",
      "dense_1 (Dense)              (None, 1)                 65        \n",
      "=================================================================\n",
      "Total params: 5,668,097\n",
      "Trainable params: 5,668,097\n",
      "Non-trainable params: 0\n",
      "_________________________________________________________________\n"
     ]
    }
   ],
   "source": [
    "model.summary()"
   ]
  },
  {
   "cell_type": "code",
   "execution_count": 5,
   "id": "300c5687",
   "metadata": {},
   "outputs": [],
   "source": [
    "# Train\n",
    "\n",
    "train_datagen = image.ImageDataGenerator(\n",
    "    rescale = 1./255,\n",
    "    shear_range = 0.2,\n",
    "    zoom_range = 0.2,\n",
    "    horizontal_flip = True\n",
    ")\n",
    "\n",
    "test_dataset = image.ImageDataGenerator(rescale=1./255)"
   ]
  },
  {
   "cell_type": "code",
   "execution_count": 6,
   "id": "be27d250",
   "metadata": {},
   "outputs": [
    {
     "name": "stdout",
     "output_type": "stream",
     "text": [
      "Found 224 images belonging to 2 classes.\n"
     ]
    }
   ],
   "source": [
    "train_generator = train_datagen.flow_from_directory(\n",
    "    TRAIN_PATH,\n",
    "    target_size =(224,224),\n",
    "    batch_size = 32,\n",
    "    class_mode = 'binary'\n",
    ")"
   ]
  },
  {
   "cell_type": "code",
   "execution_count": 7,
   "id": "7f447609",
   "metadata": {},
   "outputs": [
    {
     "data": {
      "text/plain": [
       "{'Covid': 0, 'Normal': 1}"
      ]
     },
     "execution_count": 7,
     "metadata": {},
     "output_type": "execute_result"
    }
   ],
   "source": [
    "train_generator.class_indices"
   ]
  },
  {
   "cell_type": "code",
   "execution_count": 8,
   "id": "4a6b0c97",
   "metadata": {},
   "outputs": [
    {
     "name": "stdout",
     "output_type": "stream",
     "text": [
      "Found 60 images belonging to 2 classes.\n"
     ]
    }
   ],
   "source": [
    "validation_generator = test_dataset.flow_from_directory(\n",
    "    VAL_PATH,\n",
    "    target_size =(224,224),\n",
    "    batch_size = 32,\n",
    "    class_mode = 'binary'\n",
    ")"
   ]
  },
  {
   "cell_type": "code",
   "execution_count": 11,
   "id": "c51f2957",
   "metadata": {},
   "outputs": [
    {
     "name": "stdout",
     "output_type": "stream",
     "text": [
      "Epoch 1/20\n",
      "7/7 [==============================] - 30s 4s/step - loss: 0.6507 - accuracy: 0.6116 - val_loss: 0.6538 - val_accuracy: 0.6667\n",
      "Epoch 2/20\n",
      "7/7 [==============================] - 33s 5s/step - loss: 0.6534 - accuracy: 0.6250 - val_loss: 0.6534 - val_accuracy: 0.6167\n",
      "Epoch 3/20\n",
      "7/7 [==============================] - 31s 4s/step - loss: 0.6490 - accuracy: 0.6473 - val_loss: 0.6493 - val_accuracy: 0.6333\n",
      "Epoch 4/20\n",
      "7/7 [==============================] - 32s 5s/step - loss: 0.6147 - accuracy: 0.6652 - val_loss: 0.6341 - val_accuracy: 0.6667\n",
      "Epoch 5/20\n",
      "7/7 [==============================] - 32s 5s/step - loss: 0.6140 - accuracy: 0.6696 - val_loss: 0.6182 - val_accuracy: 0.6667\n",
      "Epoch 6/20\n",
      "7/7 [==============================] - 39s 6s/step - loss: 0.6381 - accuracy: 0.6741 - val_loss: 0.6133 - val_accuracy: 0.6667\n",
      "Epoch 7/20\n",
      "7/7 [==============================] - 35s 5s/step - loss: 0.5902 - accuracy: 0.6652 - val_loss: 0.6192 - val_accuracy: 0.7000\n",
      "Epoch 8/20\n",
      "7/7 [==============================] - 36s 5s/step - loss: 0.5888 - accuracy: 0.6875 - val_loss: 0.6015 - val_accuracy: 0.7167\n",
      "Epoch 9/20\n",
      "7/7 [==============================] - 30s 4s/step - loss: 0.5973 - accuracy: 0.6875 - val_loss: 0.6186 - val_accuracy: 0.6167\n",
      "Epoch 10/20\n",
      "7/7 [==============================] - 31s 4s/step - loss: 0.5899 - accuracy: 0.6920 - val_loss: 0.6514 - val_accuracy: 0.6167\n",
      "Epoch 11/20\n",
      "7/7 [==============================] - 30s 4s/step - loss: 0.5909 - accuracy: 0.6696 - val_loss: 0.6038 - val_accuracy: 0.6500\n",
      "Epoch 12/20\n",
      "7/7 [==============================] - 30s 4s/step - loss: 0.5872 - accuracy: 0.6786 - val_loss: 0.6100 - val_accuracy: 0.6833\n",
      "Epoch 13/20\n",
      "7/7 [==============================] - 30s 4s/step - loss: 0.5818 - accuracy: 0.6652 - val_loss: 0.6018 - val_accuracy: 0.6833\n",
      "Epoch 14/20\n",
      "7/7 [==============================] - 30s 4s/step - loss: 0.5684 - accuracy: 0.7411 - val_loss: 0.6092 - val_accuracy: 0.6667\n",
      "Epoch 15/20\n",
      "7/7 [==============================] - 30s 4s/step - loss: 0.5649 - accuracy: 0.7232 - val_loss: 0.5867 - val_accuracy: 0.6833\n",
      "Epoch 16/20\n",
      "7/7 [==============================] - 30s 4s/step - loss: 0.5918 - accuracy: 0.7009 - val_loss: 0.6096 - val_accuracy: 0.6833\n",
      "Epoch 17/20\n",
      "7/7 [==============================] - 30s 4s/step - loss: 0.5393 - accuracy: 0.7455 - val_loss: 0.5776 - val_accuracy: 0.7000\n",
      "Epoch 18/20\n",
      "7/7 [==============================] - 30s 4s/step - loss: 0.5945 - accuracy: 0.6562 - val_loss: 0.6091 - val_accuracy: 0.6500\n",
      "Epoch 19/20\n",
      "7/7 [==============================] - 30s 4s/step - loss: 0.5827 - accuracy: 0.6786 - val_loss: 0.5839 - val_accuracy: 0.6500\n",
      "Epoch 20/20\n",
      "7/7 [==============================] - 30s 4s/step - loss: 0.5577 - accuracy: 0.7143 - val_loss: 0.6047 - val_accuracy: 0.7000\n"
     ]
    }
   ],
   "source": [
    "hist = model.fit_generator(\n",
    "    train_generator,\n",
    "    steps_per_epoch=7,\n",
    "    epochs=20,\n",
    "    validation_data = validation_generator,\n",
    "    validation_steps = 2\n",
    ")"
   ]
  },
  {
   "cell_type": "code",
   "execution_count": null,
   "id": "3a930edd",
   "metadata": {},
   "outputs": [],
   "source": []
  }
 ],
 "metadata": {
  "kernelspec": {
   "display_name": "Python 3 (ipykernel)",
   "language": "python",
   "name": "python3"
  },
  "language_info": {
   "codemirror_mode": {
    "name": "ipython",
    "version": 3
   },
   "file_extension": ".py",
   "mimetype": "text/x-python",
   "name": "python",
   "nbconvert_exporter": "python",
   "pygments_lexer": "ipython3",
   "version": "3.8.10"
  }
 },
 "nbformat": 4,
 "nbformat_minor": 5
}
