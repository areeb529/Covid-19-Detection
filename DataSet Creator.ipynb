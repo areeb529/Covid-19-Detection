{
 "cells": [
  {
   "cell_type": "code",
   "execution_count": 1,
   "id": "3834e889",
   "metadata": {},
   "outputs": [],
   "source": [
    "import pandas as pd\n",
    "import os\n",
    "import shutil\n",
    "import random"
   ]
  },
  {
   "cell_type": "code",
   "execution_count": 2,
   "id": "e4b89713",
   "metadata": {},
   "outputs": [],
   "source": [
    "TRAIN_PATH=\"Dataset/Train\"\n",
    "VALID_PATH=\"Dataset/Valid\"\n",
    "\n",
    "if not os.path.exists(TRAIN_PATH):\n",
    "    os.mkdir(TRAIN_PATH)\n",
    "if not os.path.exists(VALID_PATH):\n",
    "    os.mkdir(VALID_PATH)"
   ]
  },
  {
   "cell_type": "code",
   "execution_count": 3,
   "id": "84994217",
   "metadata": {},
   "outputs": [
    {
     "name": "stdout",
     "output_type": "stream",
     "text": [
      "Covid folder created\n"
     ]
    }
   ],
   "source": [
    "TARGET_COVID_DIR =\"Dataset/Train/Covid\"\n",
    "\n",
    "if not os.path.exists(TARGET_COVID_DIR):\n",
    "    os.mkdir(TARGET_COVID_DIR)\n",
    "    print(\"Covid folder created\")"
   ]
  },
  {
   "cell_type": "code",
   "execution_count": 4,
   "id": "2be6863e",
   "metadata": {},
   "outputs": [
    {
     "name": "stdout",
     "output_type": "stream",
     "text": [
      "Normal folder created\n"
     ]
    }
   ],
   "source": [
    "TARGET_NORMAL_DIR =\"Dataset/Train/Normal\"\n",
    "\n",
    "if not os.path.exists(TARGET_NORMAL_DIR):\n",
    "    os.mkdir(TARGET_NORMAL_DIR)\n",
    "    print(\"Normal folder created\")"
   ]
  },
  {
   "cell_type": "code",
   "execution_count": 5,
   "id": "882ea63b",
   "metadata": {},
   "outputs": [],
   "source": [
    "#Sampling of Images\n",
    "\n",
    "COVID_FILE_PATH = \"COVID-19_Radiography_Dataset/COVID\"\n",
    "TARGET_COVID_DIR= \"Dataset/Train/Covid\"\n",
    "NORMAL_FILE_PATH = \"COVID-19_Radiography_Dataset/Normal\"\n",
    "TARGET_NORMAL_DIR = \"Dataset/Train/Normal\""
   ]
  },
  {
   "cell_type": "code",
   "execution_count": 6,
   "id": "dcb2efae",
   "metadata": {},
   "outputs": [],
   "source": [
    "image_names = os.listdir(COVID_FILE_PATH)"
   ]
  },
  {
   "cell_type": "code",
   "execution_count": 7,
   "id": "50a0edca",
   "metadata": {},
   "outputs": [],
   "source": [
    "random.shuffle(image_names)"
   ]
  },
  {
   "cell_type": "code",
   "execution_count": 8,
   "id": "35971809",
   "metadata": {},
   "outputs": [
    {
     "name": "stdout",
     "output_type": "stream",
     "text": [
      "Copying image 0\n",
      "Copying image 1\n",
      "Copying image 2\n",
      "Copying image 3\n",
      "Copying image 4\n",
      "Copying image 5\n",
      "Copying image 6\n",
      "Copying image 7\n",
      "Copying image 8\n",
      "Copying image 9\n",
      "Copying image 10\n",
      "Copying image 11\n",
      "Copying image 12\n",
      "Copying image 13\n",
      "Copying image 14\n",
      "Copying image 15\n",
      "Copying image 16\n",
      "Copying image 17\n",
      "Copying image 18\n",
      "Copying image 19\n",
      "Copying image 20\n",
      "Copying image 21\n",
      "Copying image 22\n",
      "Copying image 23\n",
      "Copying image 24\n",
      "Copying image 25\n",
      "Copying image 26\n",
      "Copying image 27\n",
      "Copying image 28\n",
      "Copying image 29\n",
      "Copying image 30\n",
      "Copying image 31\n",
      "Copying image 32\n",
      "Copying image 33\n",
      "Copying image 34\n",
      "Copying image 35\n",
      "Copying image 36\n",
      "Copying image 37\n",
      "Copying image 38\n",
      "Copying image 39\n",
      "Copying image 40\n",
      "Copying image 41\n",
      "Copying image 42\n",
      "Copying image 43\n",
      "Copying image 44\n",
      "Copying image 45\n",
      "Copying image 46\n",
      "Copying image 47\n",
      "Copying image 48\n",
      "Copying image 49\n",
      "Copying image 50\n",
      "Copying image 51\n",
      "Copying image 52\n",
      "Copying image 53\n",
      "Copying image 54\n",
      "Copying image 55\n",
      "Copying image 56\n",
      "Copying image 57\n",
      "Copying image 58\n",
      "Copying image 59\n",
      "Copying image 60\n",
      "Copying image 61\n",
      "Copying image 62\n",
      "Copying image 63\n",
      "Copying image 64\n",
      "Copying image 65\n",
      "Copying image 66\n",
      "Copying image 67\n",
      "Copying image 68\n",
      "Copying image 69\n",
      "Copying image 70\n",
      "Copying image 71\n",
      "Copying image 72\n",
      "Copying image 73\n",
      "Copying image 74\n",
      "Copying image 75\n",
      "Copying image 76\n",
      "Copying image 77\n",
      "Copying image 78\n",
      "Copying image 79\n",
      "Copying image 80\n",
      "Copying image 81\n",
      "Copying image 82\n",
      "Copying image 83\n",
      "Copying image 84\n",
      "Copying image 85\n",
      "Copying image 86\n",
      "Copying image 87\n",
      "Copying image 88\n",
      "Copying image 89\n",
      "Copying image 90\n",
      "Copying image 91\n",
      "Copying image 92\n",
      "Copying image 93\n",
      "Copying image 94\n",
      "Copying image 95\n",
      "Copying image 96\n",
      "Copying image 97\n",
      "Copying image 98\n",
      "Copying image 99\n",
      "Copying image 100\n",
      "Copying image 101\n",
      "Copying image 102\n",
      "Copying image 103\n",
      "Copying image 104\n",
      "Copying image 105\n",
      "Copying image 106\n",
      "Copying image 107\n",
      "Copying image 108\n",
      "Copying image 109\n",
      "Copying image 110\n",
      "Copying image 111\n"
     ]
    }
   ],
   "source": [
    "for i in range(112):\n",
    "    \n",
    "    image_name = image_names[i]\n",
    "    image_path = os.path.join(COVID_FILE_PATH,image_name)\n",
    "    \n",
    "    target_path = os.path.join(TARGET_COVID_DIR,image_name)\n",
    "    \n",
    "    shutil.copy2(image_path,target_path)\n",
    "    print(\"Copying image\",i)"
   ]
  },
  {
   "cell_type": "code",
   "execution_count": 9,
   "id": "ecb34f62",
   "metadata": {},
   "outputs": [],
   "source": [
    "image_names = os.listdir(NORMAL_FILE_PATH)"
   ]
  },
  {
   "cell_type": "code",
   "execution_count": 10,
   "id": "9fcea523",
   "metadata": {},
   "outputs": [],
   "source": [
    "random.shuffle(image_names)"
   ]
  },
  {
   "cell_type": "code",
   "execution_count": 11,
   "id": "9fc6dde9",
   "metadata": {},
   "outputs": [
    {
     "name": "stdout",
     "output_type": "stream",
     "text": [
      "Copying image 0\n",
      "Copying image 1\n",
      "Copying image 2\n",
      "Copying image 3\n",
      "Copying image 4\n",
      "Copying image 5\n",
      "Copying image 6\n",
      "Copying image 7\n",
      "Copying image 8\n",
      "Copying image 9\n",
      "Copying image 10\n",
      "Copying image 11\n",
      "Copying image 12\n",
      "Copying image 13\n",
      "Copying image 14\n",
      "Copying image 15\n",
      "Copying image 16\n",
      "Copying image 17\n",
      "Copying image 18\n",
      "Copying image 19\n",
      "Copying image 20\n",
      "Copying image 21\n",
      "Copying image 22\n",
      "Copying image 23\n",
      "Copying image 24\n",
      "Copying image 25\n",
      "Copying image 26\n",
      "Copying image 27\n",
      "Copying image 28\n",
      "Copying image 29\n",
      "Copying image 30\n",
      "Copying image 31\n",
      "Copying image 32\n",
      "Copying image 33\n",
      "Copying image 34\n",
      "Copying image 35\n",
      "Copying image 36\n",
      "Copying image 37\n",
      "Copying image 38\n",
      "Copying image 39\n",
      "Copying image 40\n",
      "Copying image 41\n",
      "Copying image 42\n",
      "Copying image 43\n",
      "Copying image 44\n",
      "Copying image 45\n",
      "Copying image 46\n",
      "Copying image 47\n",
      "Copying image 48\n",
      "Copying image 49\n",
      "Copying image 50\n",
      "Copying image 51\n",
      "Copying image 52\n",
      "Copying image 53\n",
      "Copying image 54\n",
      "Copying image 55\n",
      "Copying image 56\n",
      "Copying image 57\n",
      "Copying image 58\n",
      "Copying image 59\n",
      "Copying image 60\n",
      "Copying image 61\n",
      "Copying image 62\n",
      "Copying image 63\n",
      "Copying image 64\n",
      "Copying image 65\n",
      "Copying image 66\n",
      "Copying image 67\n",
      "Copying image 68\n",
      "Copying image 69\n",
      "Copying image 70\n",
      "Copying image 71\n",
      "Copying image 72\n",
      "Copying image 73\n",
      "Copying image 74\n",
      "Copying image 75\n",
      "Copying image 76\n",
      "Copying image 77\n",
      "Copying image 78\n",
      "Copying image 79\n",
      "Copying image 80\n",
      "Copying image 81\n",
      "Copying image 82\n",
      "Copying image 83\n",
      "Copying image 84\n",
      "Copying image 85\n",
      "Copying image 86\n",
      "Copying image 87\n",
      "Copying image 88\n",
      "Copying image 89\n",
      "Copying image 90\n",
      "Copying image 91\n",
      "Copying image 92\n",
      "Copying image 93\n",
      "Copying image 94\n",
      "Copying image 95\n",
      "Copying image 96\n",
      "Copying image 97\n",
      "Copying image 98\n",
      "Copying image 99\n",
      "Copying image 100\n",
      "Copying image 101\n",
      "Copying image 102\n",
      "Copying image 103\n",
      "Copying image 104\n",
      "Copying image 105\n",
      "Copying image 106\n",
      "Copying image 107\n",
      "Copying image 108\n",
      "Copying image 109\n",
      "Copying image 110\n",
      "Copying image 111\n"
     ]
    }
   ],
   "source": [
    "for i in range(112):\n",
    "    \n",
    "    image_name = image_names[i]\n",
    "    image_path = os.path.join(NORMAL_FILE_PATH,image_name)\n",
    "    \n",
    "    target_path = os.path.join(TARGET_NORMAL_DIR,image_name)\n",
    "    \n",
    "    shutil.copy2(image_path,target_path)\n",
    "    print(\"Copying image\",i)"
   ]
  },
  {
   "cell_type": "code",
   "execution_count": 12,
   "id": "95aac87b",
   "metadata": {},
   "outputs": [
    {
     "name": "stdout",
     "output_type": "stream",
     "text": [
      "Covid folder created\n"
     ]
    }
   ],
   "source": [
    "TARGET_COVID_DIR =\"Dataset/Valid/Covid\"\n",
    "\n",
    "if not os.path.exists(TARGET_COVID_DIR):\n",
    "    os.mkdir(TARGET_COVID_DIR)\n",
    "    print(\"Covid folder created\")"
   ]
  },
  {
   "cell_type": "code",
   "execution_count": 13,
   "id": "811bb2c1",
   "metadata": {},
   "outputs": [
    {
     "name": "stdout",
     "output_type": "stream",
     "text": [
      "Normal folder created\n"
     ]
    }
   ],
   "source": [
    "TARGET_NORMAL_DIR =\"Dataset/Valid/Normal\"\n",
    "\n",
    "if not os.path.exists(TARGET_NORMAL_DIR):\n",
    "    os.mkdir(TARGET_NORMAL_DIR)\n",
    "    print(\"Normal folder created\")"
   ]
  },
  {
   "cell_type": "code",
   "execution_count": 14,
   "id": "70c4d4e6",
   "metadata": {},
   "outputs": [],
   "source": [
    "#Sampling of Images\n",
    "\n",
    "COVID_FILE_PATH = \"COVID-19_Radiography_Dataset/COVID\"\n",
    "TARGET_COVID_DIR= \"Dataset/Valid/Covid\"\n",
    "NORMAL_FILE_PATH = \"COVID-19_Radiography_Dataset/Normal\"\n",
    "TARGET_NORMAL_DIR = \"Dataset/Valid/Normal\""
   ]
  },
  {
   "cell_type": "code",
   "execution_count": 15,
   "id": "cc2e8c7b",
   "metadata": {},
   "outputs": [],
   "source": [
    "image_names = os.listdir(COVID_FILE_PATH)"
   ]
  },
  {
   "cell_type": "code",
   "execution_count": 16,
   "id": "2be65dd9",
   "metadata": {},
   "outputs": [],
   "source": [
    "random.shuffle(image_names)"
   ]
  },
  {
   "cell_type": "code",
   "execution_count": 17,
   "id": "6d480789",
   "metadata": {},
   "outputs": [
    {
     "name": "stdout",
     "output_type": "stream",
     "text": [
      "Copying image 0\n",
      "Copying image 1\n",
      "Copying image 2\n",
      "Copying image 3\n",
      "Copying image 4\n",
      "Copying image 5\n",
      "Copying image 6\n",
      "Copying image 7\n",
      "Copying image 8\n",
      "Copying image 9\n",
      "Copying image 10\n",
      "Copying image 11\n",
      "Copying image 12\n",
      "Copying image 13\n",
      "Copying image 14\n",
      "Copying image 15\n",
      "Copying image 16\n",
      "Copying image 17\n",
      "Copying image 18\n",
      "Copying image 19\n",
      "Copying image 20\n",
      "Copying image 21\n",
      "Copying image 22\n",
      "Copying image 23\n",
      "Copying image 24\n",
      "Copying image 25\n",
      "Copying image 26\n",
      "Copying image 27\n",
      "Copying image 28\n",
      "Copying image 29\n"
     ]
    }
   ],
   "source": [
    "for i in range(30):\n",
    "    \n",
    "    image_name = image_names[i]\n",
    "    image_path = os.path.join(COVID_FILE_PATH,image_name)\n",
    "    \n",
    "    target_path = os.path.join(TARGET_COVID_DIR,image_name)\n",
    "    \n",
    "    shutil.copy2(image_path,target_path)\n",
    "    print(\"Copying image\",i)"
   ]
  },
  {
   "cell_type": "code",
   "execution_count": 18,
   "id": "7ad67cd4",
   "metadata": {},
   "outputs": [],
   "source": [
    "image_names = os.listdir(NORMAL_FILE_PATH)"
   ]
  },
  {
   "cell_type": "code",
   "execution_count": 19,
   "id": "65f52150",
   "metadata": {},
   "outputs": [],
   "source": [
    "random.shuffle(image_names)"
   ]
  },
  {
   "cell_type": "code",
   "execution_count": 20,
   "id": "f171a8e8",
   "metadata": {},
   "outputs": [
    {
     "name": "stdout",
     "output_type": "stream",
     "text": [
      "Copying image 0\n",
      "Copying image 1\n",
      "Copying image 2\n",
      "Copying image 3\n",
      "Copying image 4\n",
      "Copying image 5\n",
      "Copying image 6\n",
      "Copying image 7\n",
      "Copying image 8\n",
      "Copying image 9\n",
      "Copying image 10\n",
      "Copying image 11\n",
      "Copying image 12\n",
      "Copying image 13\n",
      "Copying image 14\n",
      "Copying image 15\n",
      "Copying image 16\n",
      "Copying image 17\n",
      "Copying image 18\n",
      "Copying image 19\n",
      "Copying image 20\n",
      "Copying image 21\n",
      "Copying image 22\n",
      "Copying image 23\n",
      "Copying image 24\n",
      "Copying image 25\n",
      "Copying image 26\n",
      "Copying image 27\n",
      "Copying image 28\n",
      "Copying image 29\n"
     ]
    }
   ],
   "source": [
    "for i in range(30):\n",
    "    \n",
    "    image_name = image_names[i]\n",
    "    image_path = os.path.join(NORMAL_FILE_PATH,image_name)\n",
    "    \n",
    "    target_path = os.path.join(TARGET_NORMAL_DIR,image_name)\n",
    "    \n",
    "    shutil.copy2(image_path,target_path)\n",
    "    print(\"Copying image\",i)"
   ]
  },
  {
   "cell_type": "code",
   "execution_count": null,
   "id": "aec71817",
   "metadata": {},
   "outputs": [],
   "source": []
  }
 ],
 "metadata": {
  "kernelspec": {
   "display_name": "Python 3 (ipykernel)",
   "language": "python",
   "name": "python3"
  },
  "language_info": {
   "codemirror_mode": {
    "name": "ipython",
    "version": 3
   },
   "file_extension": ".py",
   "mimetype": "text/x-python",
   "name": "python",
   "nbconvert_exporter": "python",
   "pygments_lexer": "ipython3",
   "version": "3.8.10"
  }
 },
 "nbformat": 4,
 "nbformat_minor": 5
}
