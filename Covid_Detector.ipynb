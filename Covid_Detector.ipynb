{
  "nbformat": 4,
  "nbformat_minor": 0,
  "metadata": {
    "colab": {
      "name": "Covid-Detector",
      "provenance": [],
      "collapsed_sections": []
    },
    "kernelspec": {
      "name": "python3",
      "display_name": "Python 3"
    },
    "language_info": {
      "name": "python"
    },
    "accelerator": "GPU"
  },
  "cells": [
    {
      "cell_type": "code",
      "metadata": {
        "id": "UvVCr7QZFvua"
      },
      "source": [
        "TRAIN_PATH = \"drive/MyDrive/Dataset/Train\"\n",
        "VAL_PATH = \"drive/MyDrive/Dataset/Valid\"\n"
      ],
      "execution_count": 2,
      "outputs": []
    },
    {
      "cell_type": "code",
      "metadata": {
        "id": "ZYC-QRRwbkx0"
      },
      "source": [
        "import numpy as np\n",
        "import matplotlib.pyplot as plt\n",
        "import keras\n",
        "from keras.layers import *\n",
        "from keras.models import *\n",
        "from keras.preprocessing import image"
      ],
      "execution_count": 3,
      "outputs": []
    },
    {
      "cell_type": "code",
      "metadata": {
        "id": "sZRjWPJScpE4"
      },
      "source": [
        "# CNN Based Model In Keras\n",
        "\n",
        "model = Sequential()\n",
        "model.add(Conv2D(32,kernel_size=(3,3), activation ='relu', input_shape=(224,224,3)))\n",
        "model.add(Conv2D(64,(3,3), activation = 'relu'))\n",
        "model.add(MaxPooling2D(pool_size = (2,2)))\n",
        "model.add(Dropout(0.25))\n",
        "\n",
        "model.add(Conv2D(64,(3,3), activation = 'relu'))\n",
        "model.add(MaxPooling2D(pool_size = (2,2)))\n",
        "model.add(Dropout(0.25))\n",
        "\n",
        "model.add(Conv2D(128,(3,3), activation = 'relu'))\n",
        "model.add(MaxPooling2D(pool_size = (2,2)))\n",
        "model.add(Dropout(0.25))\n",
        "\n",
        "# model.add(Conv2D(256,(3,3), activation = 'relu'))\n",
        "# model.add(MaxPooling2D(pool_size = (2,2)))\n",
        "# model.add(Dropout(0.25))\n",
        "\n",
        "model.add(Flatten())\n",
        "model.add(Dense(64,activation = 'relu'))\n",
        "model.add(Dropout(0.5))\n",
        "model.add(Dense(1,activation='sigmoid'))\n",
        "\n",
        "model.compile(loss = keras.losses.binary_crossentropy, optimizer = 'adam', metrics =['accuracy'] )"
      ],
      "execution_count": 4,
      "outputs": []
    },
    {
      "cell_type": "code",
      "metadata": {
        "colab": {
          "base_uri": "https://localhost:8080/"
        },
        "id": "HN7MNkdjoIaw",
        "outputId": "794ead1c-ecb7-4d42-c1e7-317af03f6723"
      },
      "source": [
        "model.summary()"
      ],
      "execution_count": 5,
      "outputs": [
        {
          "output_type": "stream",
          "name": "stdout",
          "text": [
            "Model: \"sequential\"\n",
            "_________________________________________________________________\n",
            "Layer (type)                 Output Shape              Param #   \n",
            "=================================================================\n",
            "conv2d (Conv2D)              (None, 222, 222, 32)      896       \n",
            "_________________________________________________________________\n",
            "conv2d_1 (Conv2D)            (None, 220, 220, 64)      18496     \n",
            "_________________________________________________________________\n",
            "max_pooling2d (MaxPooling2D) (None, 110, 110, 64)      0         \n",
            "_________________________________________________________________\n",
            "dropout (Dropout)            (None, 110, 110, 64)      0         \n",
            "_________________________________________________________________\n",
            "conv2d_2 (Conv2D)            (None, 108, 108, 64)      36928     \n",
            "_________________________________________________________________\n",
            "max_pooling2d_1 (MaxPooling2 (None, 54, 54, 64)        0         \n",
            "_________________________________________________________________\n",
            "dropout_1 (Dropout)          (None, 54, 54, 64)        0         \n",
            "_________________________________________________________________\n",
            "conv2d_3 (Conv2D)            (None, 52, 52, 128)       73856     \n",
            "_________________________________________________________________\n",
            "max_pooling2d_2 (MaxPooling2 (None, 26, 26, 128)       0         \n",
            "_________________________________________________________________\n",
            "dropout_2 (Dropout)          (None, 26, 26, 128)       0         \n",
            "_________________________________________________________________\n",
            "conv2d_4 (Conv2D)            (None, 24, 24, 256)       295168    \n",
            "_________________________________________________________________\n",
            "max_pooling2d_3 (MaxPooling2 (None, 12, 12, 256)       0         \n",
            "_________________________________________________________________\n",
            "dropout_3 (Dropout)          (None, 12, 12, 256)       0         \n",
            "_________________________________________________________________\n",
            "flatten (Flatten)            (None, 36864)             0         \n",
            "_________________________________________________________________\n",
            "dense (Dense)                (None, 64)                2359360   \n",
            "_________________________________________________________________\n",
            "dropout_4 (Dropout)          (None, 64)                0         \n",
            "_________________________________________________________________\n",
            "dense_1 (Dense)              (None, 1)                 65        \n",
            "=================================================================\n",
            "Total params: 2,784,769\n",
            "Trainable params: 2,784,769\n",
            "Non-trainable params: 0\n",
            "_________________________________________________________________\n"
          ]
        }
      ]
    },
    {
      "cell_type": "code",
      "metadata": {
        "id": "1sD5v2tgoPJ0"
      },
      "source": [
        "# Train\n",
        "\n",
        "train_datagen = image.ImageDataGenerator(\n",
        "    rescale = 1./255,\n",
        "    shear_range = 0.2,\n",
        "    zoom_range = 0.2,\n",
        "    horizontal_flip = True\n",
        ")\n",
        "\n",
        "test_dataset = image.ImageDataGenerator(rescale=1./255)"
      ],
      "execution_count": 6,
      "outputs": []
    },
    {
      "cell_type": "code",
      "metadata": {
        "colab": {
          "base_uri": "https://localhost:8080/"
        },
        "id": "RX5gxtP1p7CZ",
        "outputId": "e33092b9-57fd-4869-f2d6-ea9e9f6e788f"
      },
      "source": [
        "train_generator = train_datagen.flow_from_directory(\n",
        "    TRAIN_PATH,\n",
        "    target_size =(224,224),\n",
        "    batch_size = 32,\n",
        "    class_mode = 'binary'\n",
        ")"
      ],
      "execution_count": 8,
      "outputs": [
        {
          "output_type": "stream",
          "name": "stdout",
          "text": [
            "Found 5000 images belonging to 2 classes.\n"
          ]
        }
      ]
    },
    {
      "cell_type": "code",
      "metadata": {
        "colab": {
          "base_uri": "https://localhost:8080/"
        },
        "id": "kra2-9MxsCYc",
        "outputId": "58c36c82-e420-4388-a9b8-6712ae842cde"
      },
      "source": [
        "train_generator.class_indices"
      ],
      "execution_count": 9,
      "outputs": [
        {
          "output_type": "execute_result",
          "data": {
            "text/plain": [
              "{'Covid': 0, 'Normal': 1}"
            ]
          },
          "metadata": {},
          "execution_count": 9
        }
      ]
    },
    {
      "cell_type": "code",
      "metadata": {
        "colab": {
          "base_uri": "https://localhost:8080/"
        },
        "id": "ymQVP41qvTy1",
        "outputId": "9f6e833b-28ac-4d07-85d0-ecf4b54d9149"
      },
      "source": [
        "validation_generator = test_dataset.flow_from_directory(\n",
        "    VAL_PATH,\n",
        "    target_size =(224,224),\n",
        "    batch_size = 32,\n",
        "    class_mode = 'binary'\n",
        ")"
      ],
      "execution_count": 12,
      "outputs": [
        {
          "output_type": "stream",
          "name": "stdout",
          "text": [
            "Found 1000 images belonging to 2 classes.\n"
          ]
        }
      ]
    },
    {
      "cell_type": "code",
      "metadata": {
        "colab": {
          "base_uri": "https://localhost:8080/"
        },
        "id": "oWlNpULHsZt9",
        "outputId": "328c5cf7-83b1-47cc-ad7f-155ae162beac"
      },
      "source": [
        "hist = model.fit_generator(\n",
        "    train_generator,\n",
        "    steps_per_epoch=8,\n",
        "    epochs=20,\n",
        "    validation_data = validation_generator,\n",
        "    validation_steps = 2\n",
        ")"
      ],
      "execution_count": 15,
      "outputs": [
        {
          "output_type": "stream",
          "name": "stderr",
          "text": [
            "/usr/local/lib/python3.7/dist-packages/keras/engine/training.py:1972: UserWarning: `Model.fit_generator` is deprecated and will be removed in a future version. Please use `Model.fit`, which supports generators.\n",
            "  warnings.warn('`Model.fit_generator` is deprecated and '\n"
          ]
        },
        {
          "output_type": "stream",
          "name": "stdout",
          "text": [
            "Epoch 1/20\n",
            "8/8 [==============================] - 67s 8s/step - loss: 0.6800 - accuracy: 0.5312 - val_loss: 0.6839 - val_accuracy: 0.5000\n",
            "Epoch 2/20\n",
            "8/8 [==============================] - 62s 8s/step - loss: 0.6593 - accuracy: 0.6328 - val_loss: 0.6411 - val_accuracy: 0.6562\n",
            "Epoch 3/20\n",
            "8/8 [==============================] - 60s 8s/step - loss: 0.7016 - accuracy: 0.5703 - val_loss: 0.7122 - val_accuracy: 0.4375\n",
            "Epoch 4/20\n",
            "8/8 [==============================] - 57s 7s/step - loss: 0.6589 - accuracy: 0.6250 - val_loss: 0.6668 - val_accuracy: 0.5938\n",
            "Epoch 5/20\n",
            "8/8 [==============================] - 54s 7s/step - loss: 0.6677 - accuracy: 0.5781 - val_loss: 0.6487 - val_accuracy: 0.7500\n",
            "Epoch 6/20\n",
            "8/8 [==============================] - 47s 6s/step - loss: 0.6629 - accuracy: 0.6523 - val_loss: 0.6947 - val_accuracy: 0.3906\n",
            "Epoch 7/20\n",
            "8/8 [==============================] - 53s 7s/step - loss: 0.6378 - accuracy: 0.6602 - val_loss: 0.6375 - val_accuracy: 0.7344\n",
            "Epoch 8/20\n",
            "8/8 [==============================] - 49s 6s/step - loss: 0.6826 - accuracy: 0.5938 - val_loss: 0.6820 - val_accuracy: 0.7188\n",
            "Epoch 9/20\n",
            "8/8 [==============================] - 45s 6s/step - loss: 0.6932 - accuracy: 0.5234 - val_loss: 0.6787 - val_accuracy: 0.5000\n",
            "Epoch 10/20\n",
            "8/8 [==============================] - 38s 5s/step - loss: 0.6756 - accuracy: 0.5898 - val_loss: 0.6825 - val_accuracy: 0.5781\n",
            "Epoch 11/20\n",
            "8/8 [==============================] - 42s 5s/step - loss: 0.6858 - accuracy: 0.5781 - val_loss: 0.6751 - val_accuracy: 0.5781\n",
            "Epoch 12/20\n",
            "8/8 [==============================] - 31s 4s/step - loss: 0.6797 - accuracy: 0.6211 - val_loss: 0.6704 - val_accuracy: 0.7344\n",
            "Epoch 13/20\n",
            "8/8 [==============================] - 37s 5s/step - loss: 0.6609 - accuracy: 0.6328 - val_loss: 0.6574 - val_accuracy: 0.7500\n",
            "Epoch 14/20\n",
            "8/8 [==============================] - 30s 4s/step - loss: 0.6489 - accuracy: 0.6172 - val_loss: 0.6567 - val_accuracy: 0.5781\n",
            "Epoch 15/20\n",
            "8/8 [==============================] - 33s 4s/step - loss: 0.6150 - accuracy: 0.6719 - val_loss: 0.6132 - val_accuracy: 0.6562\n",
            "Epoch 16/20\n",
            "8/8 [==============================] - 30s 4s/step - loss: 0.6224 - accuracy: 0.6211 - val_loss: 0.6554 - val_accuracy: 0.6875\n",
            "Epoch 17/20\n",
            "8/8 [==============================] - 26s 3s/step - loss: 0.6185 - accuracy: 0.6797 - val_loss: 0.6450 - val_accuracy: 0.6406\n",
            "Epoch 18/20\n",
            "8/8 [==============================] - 28s 4s/step - loss: 0.5585 - accuracy: 0.7344 - val_loss: 0.6158 - val_accuracy: 0.6562\n",
            "Epoch 19/20\n",
            "8/8 [==============================] - 22s 3s/step - loss: 0.5777 - accuracy: 0.6680 - val_loss: 0.6016 - val_accuracy: 0.7188\n",
            "Epoch 20/20\n",
            "8/8 [==============================] - 19s 3s/step - loss: 0.5926 - accuracy: 0.6562 - val_loss: 0.5249 - val_accuracy: 0.7500\n"
          ]
        }
      ]
    }
  ]
}